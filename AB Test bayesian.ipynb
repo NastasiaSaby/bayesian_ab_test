{
 "cells": [
  {
   "cell_type": "markdown",
   "metadata": {},
   "source": [
    "# Computation"
   ]
  },
  {
   "cell_type": "code",
   "execution_count": 29,
   "metadata": {},
   "outputs": [
    {
     "data": {
      "text/html": [
       "<div>\n",
       "<style scoped>\n",
       "    .dataframe tbody tr th:only-of-type {\n",
       "        vertical-align: middle;\n",
       "    }\n",
       "\n",
       "    .dataframe tbody tr th {\n",
       "        vertical-align: top;\n",
       "    }\n",
       "\n",
       "    .dataframe thead th {\n",
       "        text-align: right;\n",
       "    }\n",
       "</style>\n",
       "<table border=\"1\" class=\"dataframe\">\n",
       "  <thead>\n",
       "    <tr style=\"text-align: right;\">\n",
       "      <th></th>\n",
       "      <th>visitor</th>\n",
       "      <th>variant</th>\n",
       "      <th>conversion</th>\n",
       "      <th>revenue</th>\n",
       "    </tr>\n",
       "  </thead>\n",
       "  <tbody>\n",
       "    <tr>\n",
       "      <th>0</th>\n",
       "      <td>James</td>\n",
       "      <td>A</td>\n",
       "      <td>0</td>\n",
       "      <td>0.0</td>\n",
       "    </tr>\n",
       "    <tr>\n",
       "      <th>1</th>\n",
       "      <td>Mike</td>\n",
       "      <td>B</td>\n",
       "      <td>1</td>\n",
       "      <td>22.8</td>\n",
       "    </tr>\n",
       "    <tr>\n",
       "      <th>2</th>\n",
       "      <td>Tommy</td>\n",
       "      <td>B</td>\n",
       "      <td>0</td>\n",
       "      <td>0.0</td>\n",
       "    </tr>\n",
       "    <tr>\n",
       "      <th>3</th>\n",
       "      <td>Meguy</td>\n",
       "      <td>A</td>\n",
       "      <td>1</td>\n",
       "      <td>12.9</td>\n",
       "    </tr>\n",
       "    <tr>\n",
       "      <th>4</th>\n",
       "      <td>Mia</td>\n",
       "      <td>B</td>\n",
       "      <td>1</td>\n",
       "      <td>37.5</td>\n",
       "    </tr>\n",
       "  </tbody>\n",
       "</table>\n",
       "</div>"
      ],
      "text/plain": [
       "  visitor variant  conversion  revenue\n",
       "0   James       A           0      0.0\n",
       "1    Mike       B           1     22.8\n",
       "2   Tommy       B           0      0.0\n",
       "3   Meguy       A           1     12.9\n",
       "4     Mia       B           1     37.5"
      ]
     },
     "execution_count": 29,
     "metadata": {},
     "output_type": "execute_result"
    }
   ],
   "source": [
    "#prepare data\n",
    "\n",
    "import pandas as pd\n",
    "\n",
    "data = {'visitor':  ['James', 'Mike', 'Tommy', 'Meguy', 'Mia'],\n",
    "        'variant': ['A', 'B', 'B', 'A', 'B'],\n",
    "        'conversion': [0, 1, 0, 1, 1],\n",
    "        'revenue': [0.00, 22.80, 0.00, 12.90, 37.5],\n",
    "        }\n",
    "\n",
    "df = pd.DataFrame (data, columns = ['visitor', 'variant', 'conversion', 'revenue'])\n",
    "\n",
    "df.head()"
   ]
  },
  {
   "cell_type": "code",
   "execution_count": 30,
   "metadata": {},
   "outputs": [],
   "source": [
    "#Split the data\n",
    "\n",
    "import matplotlib.pyplot as plt\n",
    "import numpy as np\n",
    "import pandas\n",
    "import pymc3 as pm\n",
    "\n",
    "def data_split(df):\n",
    "    variant = df[df['variant']!='A']\n",
    "    default = df[df['variant']=='A']\n",
    "\n",
    "    conv_variant = df[(df['variant']!='A') & (df['conversion']>0 )]\n",
    "    conv_default = df[(df['variant']=='A') & (df['conversion']>0)]\n",
    "\n",
    "    default = default['conversion']\n",
    "    variant = variant['conversion']\n",
    "    rev_default = conv_default['revenue']\n",
    "    rev_variant = conv_variant['revenue']\n",
    "    return [default,variant,rev_default,rev_variant]\n",
    "      \n",
    "dataframe = df\n",
    "observations = data_split(dataframe);"
   ]
  },
  {
   "cell_type": "code",
   "execution_count": 31,
   "metadata": {},
   "outputs": [
    {
     "name": "stderr",
     "output_type": "stream",
     "text": [
      "c:\\users\\sabyna\\project\\eni\\env\\lib\\site-packages\\ipykernel_launcher.py:27: FutureWarning: In v4.0, pm.sample will return an `arviz.InferenceData` object instead of a `MultiTrace` by default. You can pass return_inferencedata=True or return_inferencedata=False to be safe and silence this warning.\n",
      "Multiprocess sampling (4 chains in 4 jobs)\n",
      "CompoundStep\n",
      ">Slice: [revenueB]\n",
      ">Slice: [revenueA]\n",
      ">Slice: [conversionB]\n",
      ">Slice: [conversionA]\n"
     ]
    },
    {
     "data": {
      "text/html": [
       "\n",
       "    <div>\n",
       "        <style>\n",
       "            /* Turns off some styling */\n",
       "            progress {\n",
       "                /* gets rid of default border in Firefox and Opera. */\n",
       "                border: none;\n",
       "                /* Needs to be in here for Safari polyfill so background images work as expected. */\n",
       "                background-size: auto;\n",
       "            }\n",
       "            .progress-bar-interrupted, .progress-bar-interrupted::-webkit-progress-bar {\n",
       "                background: #F44336;\n",
       "            }\n",
       "        </style>\n",
       "      <progress value='8000' class='' max='8000' style='width:300px; height:20px; vertical-align: middle;'></progress>\n",
       "      100.00% [8000/8000 01:12<00:00 Sampling 4 chains, 0 divergences]\n",
       "    </div>\n",
       "    "
      ],
      "text/plain": [
       "<IPython.core.display.HTML object>"
      ]
     },
     "metadata": {},
     "output_type": "display_data"
    },
    {
     "name": "stderr",
     "output_type": "stream",
     "text": [
      "Sampling 4 chains for 1_000 tune and 1_000 draw iterations (4_000 + 4_000 draws total) took 83 seconds.\n"
     ]
    }
   ],
   "source": [
    "\n",
    "with pm.Model() as ab_model:\n",
    "  #Conversion a priori\n",
    "  a_prior=pm.distributions.continuous.Beta('conversionA', alpha=0.1, beta=0.1)\n",
    "  b_prior=pm.distributions.continuous.Beta('conversionB', alpha=0.1, beta=0.1)\n",
    "\n",
    "  #Revenues a priori\n",
    "  rev_a_prior=pm.distributions.continuous.Gamma('revenueA', alpha=0.1, beta=0.1)\n",
    "  rev_b_prior=pm.distributions.continuous.Gamma('revenueB', alpha=0.1, beta=0.1)\n",
    "  \n",
    "  #Compute the likelihood\n",
    "  pm.Bernoulli('likelihoodA', a_prior, observed=observations[0])\n",
    "  pm.Bernoulli('likelihoodB', b_prior, observed=observations[1])\n",
    "  pm.Poisson('likelihoodRevenueA', rev_a_prior, observed=observations[2])\n",
    "  pm.Poisson('likelihoodRevenueB', rev_b_prior, observed=observations[3])\n",
    "\n",
    "  #Compute metrics\n",
    "  conv_a = pm.Deterministic('conversion_A', a_prior)\n",
    "  conv_b = pm.Deterministic('conversion_B', b_prior)\n",
    "  \n",
    "  conv_rev_a = pm.Deterministic('conversionRevenueA', a_prior*rev_a_prior)\n",
    "  conv_rev_b = pm.Deterministic('conversionRevenueB', b_prior*rev_b_prior)\n",
    "\n",
    "  pm.Deterministic('lift', b_prior - a_prior)\n",
    "  pm.Deterministic('revenueLift', conv_rev_b - conv_rev_a)\n",
    "    \n",
    "  step = pm.Slice()\n",
    "  trace = pm.sample(1000, step=step) #Be aware that it will take some times to compute"
   ]
  },
  {
   "cell_type": "markdown",
   "metadata": {},
   "source": [
    "# Visualisation"
   ]
  },
  {
   "cell_type": "markdown",
   "metadata": {},
   "source": [
    "#Visualize some results\n",
    "\n",
    "plt.figure(figsize=(20,5))\n",
    "plt.subplot(1, 2,1)\n",
    "plt.hist(trace['conversionRevenueA'][:], bins=35, histtype='stepfilled', \n",
    "color='#da6d75', label='Posterior of revenue A',alpha=0.5)\n",
    "plt.legend()\n",
    "plt.hist(trace['conversionRevenueB'][:], bins=35, histtype='stepfilled',\n",
    "color='#52c4a8', label='Posterior of revenue B',alpha=0.5)\n",
    "plt.legend()\n",
    "plt.subplot(1, 2,2)\n",
    "plt.hist(trace['conversion_A'][:], bins=35, histtype='stepfilled',\n",
    "color='#da6d75', label='Posterior of A',alpha=0.5)\n",
    "plt.legend()\n",
    "plt.hist(trace['conversion_B'][:], bins=35, histtype='stepfilled',\n",
    "color='#52c4a8', label='Posterior of B',alpha=0.5)\n",
    "plt.legend()\n",
    "plt.show()"
   ]
  },
  {
   "cell_type": "markdown",
   "metadata": {},
   "source": [
    "# Interpretation"
   ]
  },
  {
   "cell_type": "code",
   "execution_count": 32,
   "metadata": {},
   "outputs": [],
   "source": [
    "#Interpretation\n",
    "\n",
    "difference_rev_B_A=trace['conversionRevenueB']-trace['conversionRevenueA']\n",
    "difference_conversion_B_A=trace['conversionB']-trace['conversionA']\n",
    "difference_rev_A_B=trace['conversionA']-trace['conversionB']\n",
    "difference_conversion_A_B=trace['conversionA']-trace['conversionB']"
   ]
  },
  {
   "cell_type": "code",
   "execution_count": 33,
   "metadata": {},
   "outputs": [
    {
     "name": "stdout",
     "output_type": "stream",
     "text": [
      "Probability of 14% increase by group B revenue and conversion:  93.75\n",
      "Probability of 100% increase by group B revenue and conversion:  91.975\n",
      "_________________________________________________________________________________________________\n",
      "Probability of 14% increase by group A revenue and conversion:  22.625\n",
      "Probability of 100% increase by group A revenue and conversion:  0.0\n"
     ]
    }
   ],
   "source": [
    "#probability of 14% increase by group B revenue and conversion\n",
    "print(\"Probability of 14% increase by group B revenue and conversion: \", 100*len(difference_rev_B_A[difference_rev_B_A>0.14])*1.0/len(difference_rev_B_A))\n",
    "print(\"Probability of 100% increase by group B revenue and conversion: \", 100*len(difference_rev_B_A[difference_rev_B_A>1])*1.0/len(difference_rev_B_A))\n",
    "print(\"_________________________________________________________________________________________________\")\n",
    "print(\"Probability of 14% increase by group A revenue and conversion: \", 100*len(difference_rev_A_B[difference_rev_A_B>0.14])*1.0/len(difference_rev_A_B))\n",
    "print(\"Probability of 100% increase by group A revenue and conversion: \", 100*len(difference_rev_A_B[difference_rev_A_B>1])*1.0/len(difference_rev_A_B))\n"
   ]
  }
 ],
 "metadata": {
  "kernelspec": {
   "display_name": "Python 3",
   "language": "python",
   "name": "python3"
  },
  "language_info": {
   "codemirror_mode": {
    "name": "ipython",
    "version": 3
   },
   "file_extension": ".py",
   "mimetype": "text/x-python",
   "name": "python",
   "nbconvert_exporter": "python",
   "pygments_lexer": "ipython3",
   "version": "3.7.9"
  }
 },
 "nbformat": 4,
 "nbformat_minor": 4
}
