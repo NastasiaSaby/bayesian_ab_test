{
 "cells": [
  {
   "cell_type": "code",
   "execution_count": 4,
   "metadata": {},
   "outputs": [
    {
     "name": "stdout",
     "output_type": "stream",
     "text": [
      "  visit_id        date variant  conversion  revenue\n",
      "0    James  2019-04-04       A           0      0.0\n",
      "1     Mike  2019-04-04       B           1     22.8\n",
      "2    Tommy  2019-04-04       B           0      0.0\n",
      "3    Meguy  2019-04-04       A           1     12.9\n",
      "4      Mia  2019-04-04       B           1     37.5\n"
     ]
    }
   ],
   "source": [
    "import pandas as pd\n",
    "\n",
    "data = {'visit_id':  ['James', 'Mike', 'Tommy', 'Meguy', 'Mia'],\n",
    "        'date': ['2019-04-04', '2019-04-04', '2019-04-04', '2019-04-04', '2019-04-04'],\n",
    "        'variant': ['A', 'B', 'B', 'A', 'B'],\n",
    "        'conversion': [0, 1, 0, 1, 1],\n",
    "        'revenue': [0.00, 22.80, 0.00, 12.90, 37.5],\n",
    "        }\n",
    "\n",
    "df = pd.DataFrame (data, columns = ['visit_id','date', 'variant', 'conversion', 'revenue'])\n",
    "\n",
    "print (df)"
   ]
  },
  {
   "cell_type": "code",
   "execution_count": 5,
   "metadata": {},
   "outputs": [],
   "source": [
    "import matplotlib.pyplot as plt\n",
    "import numpy as np\n",
    "import pandas\n",
    "import pymc3 as pm\n",
    "\n",
    "def data_split(df):\n",
    "    variant = df[df['variant']!='A']\n",
    "    default = df[df['variant']=='A']\n",
    "\n",
    "    conv_variant = df[(df['variant']!='A') & (df['conversion']>0 )]\n",
    "    conv_default = df[(df['variant']=='A') & (df['conversion']>0)]\n",
    "\n",
    "    default = default['conversion']\n",
    "    variant = variant['conversion']\n",
    "    rev_default = conv_default['revenue']\n",
    "    rev_variant = conv_variant['revenue']\n",
    "    return [default,variant,rev_default,rev_variant]\n",
    "      \n",
    "dataframe = df\n",
    "observations = data_split(dataframe);"
   ]
  },
  {
   "cell_type": "code",
   "execution_count": 10,
   "metadata": {},
   "outputs": [
    {
     "data": {
      "text/plain": [
       "0    0\n",
       "3    1\n",
       "Name: conversion, dtype: int64"
      ]
     },
     "execution_count": 10,
     "metadata": {},
     "output_type": "execute_result"
    }
   ],
   "source": [
    "observations[0]"
   ]
  },
  {
   "cell_type": "code",
   "execution_count": 9,
   "metadata": {},
   "outputs": [
    {
     "data": {
      "text/plain": [
       "1    1\n",
       "2    0\n",
       "4    1\n",
       "Name: conversion, dtype: int64"
      ]
     },
     "execution_count": 9,
     "metadata": {},
     "output_type": "execute_result"
    }
   ],
   "source": [
    "observations[1]"
   ]
  },
  {
   "cell_type": "code",
   "execution_count": 25,
   "metadata": {},
   "outputs": [
    {
     "name": "stdout",
     "output_type": "stream",
     "text": [
      "<class 'pymc3.model.TransformedRV'>\n"
     ]
    },
    {
     "name": "stderr",
     "output_type": "stream",
     "text": [
      "c:\\users\\sabyna\\project\\eni\\env\\lib\\site-packages\\ipykernel_launcher.py:26: FutureWarning: In v4.0, pm.sample will return an `arviz.InferenceData` object instead of a `MultiTrace` by default. You can pass return_inferencedata=True or return_inferencedata=False to be safe and silence this warning.\n",
      "Multiprocess sampling (4 chains in 4 jobs)\n",
      "CompoundStep\n",
      ">Slice: [revenueB]\n",
      ">Slice: [revenueA]\n",
      ">Slice: [conversionB]\n",
      ">Slice: [conversionA]\n"
     ]
    },
    {
     "data": {
      "text/html": [
       "\n",
       "    <div>\n",
       "        <style>\n",
       "            /* Turns off some styling */\n",
       "            progress {\n",
       "                /* gets rid of default border in Firefox and Opera. */\n",
       "                border: none;\n",
       "                /* Needs to be in here for Safari polyfill so background images work as expected. */\n",
       "                background-size: auto;\n",
       "            }\n",
       "            .progress-bar-interrupted, .progress-bar-interrupted::-webkit-progress-bar {\n",
       "                background: #F44336;\n",
       "            }\n",
       "        </style>\n",
       "      <progress value='8000' class='' max='8000' style='width:300px; height:20px; vertical-align: middle;'></progress>\n",
       "      100.00% [8000/8000 01:18<00:00 Sampling 4 chains, 0 divergences]\n",
       "    </div>\n",
       "    "
      ],
      "text/plain": [
       "<IPython.core.display.HTML object>"
      ]
     },
     "metadata": {},
     "output_type": "display_data"
    },
    {
     "name": "stderr",
     "output_type": "stream",
     "text": [
      "Sampling 4 chains for 1_000 tune and 1_000 draw iterations (4_000 + 4_000 draws total) took 90 seconds.\n"
     ]
    }
   ],
   "source": [
    "with pm.Model() as ab_model:\n",
    "  #Conversion a priori\n",
    "  a_prior=pm.distributions.continuous.Beta('conversionA', alpha=0.1, beta=0.1)\n",
    "  b_prior=pm.distributions.continuous.Beta('conversionB', alpha=0.1, beta=0.1)\n",
    "\n",
    "  #Revenues a priori - Can't be beta - more complex\n",
    "  rev_a_prior=pm.distributions.continuous.Gamma('revenueA', alpha=0.1, beta=0.1)\n",
    "  rev_b_prior=pm.distributions.continuous.Gamma('revenueB', alpha=0.1, beta=0.1)\n",
    "  \n",
    "  pm.Bernoulli('likelihoodA', a_prior, observed=observations[0])\n",
    "  pm.Bernoulli('likelihoodB', b_prior, observed=observations[1])\n",
    "  pm.Poisson('likelihoodRevenueA', rev_a_prior, observed=observations[2])\n",
    "  pm.Poisson('likelihoodRevenueB', rev_b_prior, observed=observations[3])\n",
    "\n",
    "  conv_a = pm.Deterministic('conversion_A', a_prior)\n",
    "  conv_b = pm.Deterministic('conversion_B', b_prior)\n",
    "  \n",
    "  conv_rev_a = pm.Deterministic('conversionRevenueA', a_prior*rev_a_prior)\n",
    "  conv_rev_b = pm.Deterministic('conversionRevenueB', b_prior*rev_b_prior)\n",
    "\n",
    "  pm.Deterministic('lift', b_prior - a_prior)\n",
    "  pm.Deterministic('revenueLift', conv_rev_b - conv_rev_a)\n",
    "    \n",
    "  step = pm.Slice()\n",
    "  trace = pm.sample(1000, step=step)"
   ]
  },
  {
   "cell_type": "code",
   "execution_count": 77,
   "metadata": {},
   "outputs": [],
   "source": [
    "difference_rev=trace['conversionRevenueB']-trace['conversionRevenueA']"
   ]
  },
  {
   "cell_type": "code",
   "execution_count": 79,
   "metadata": {},
   "outputs": [],
   "source": [
    "difference_conversion=trace['conversionB']-trace['conversionA']"
   ]
  },
  {
   "cell_type": "code",
   "execution_count": 78,
   "metadata": {},
   "outputs": [
    {
     "data": {
      "text/plain": [
       "93.575"
      ]
     },
     "execution_count": 78,
     "metadata": {},
     "output_type": "execute_result"
    }
   ],
   "source": [
    "#probability of 14% increase by group B revenue and conversion\n",
    "100*len(difference_rev[difference_rev>0.14])*1.0/len(difference_rev)"
   ]
  },
  {
   "cell_type": "code",
   "execution_count": 85,
   "metadata": {},
   "outputs": [
    {
     "data": {
      "text/plain": [
       "92.025"
      ]
     },
     "execution_count": 85,
     "metadata": {},
     "output_type": "execute_result"
    }
   ],
   "source": [
    "#probability of 100% increase by group B revenue and conversion\n",
    "100*len(difference_rev[difference_rev>1])*1.0/len(difference_rev)"
   ]
  },
  {
   "cell_type": "code",
   "execution_count": 81,
   "metadata": {},
   "outputs": [
    {
     "data": {
      "text/plain": [
       "12.2"
      ]
     },
     "execution_count": 81,
     "metadata": {},
     "output_type": "execute_result"
    }
   ],
   "source": [
    "#probability of 6% increase by group B revenue and conversion\n",
    "100*len(difference_conversion[difference_conversion>0.6])*1.0/len(difference_conversion)"
   ]
  },
  {
   "cell_type": "code",
   "execution_count": 86,
   "metadata": {},
   "outputs": [
    {
     "data": {
      "image/png": "[encoded data removed]",
      "text/plain": [
       "<Figure size 1440x360 with 2 Axes>"
      ]
     },
     "metadata": {
      "needs_background": "light"
     },
     "output_type": "display_data"
    }
   ],
   "source": [
    "plt.figure(figsize=(20,5))\n",
    "plt.subplot(1, 2,1)\n",
    "plt.hist(trace['conversionRevenueA'][:], bins=35, histtype='stepfilled', \n",
    "color='#da6d75', label='Posterior of revenue A',alpha=0.5)\n",
    "plt.legend()\n",
    "plt.hist(trace['conversionRevenueB'][:], bins=35, histtype='stepfilled',\n",
    "color='#52c4a8', label='Posterior of revenue B',alpha=0.5)\n",
    "plt.legend()\n",
    "plt.subplot(1, 2,2)\n",
    "plt.hist(trace['conversion_A'][:], bins=35, histtype='stepfilled',\n",
    "color='#da6d75', label='Posterior of A',alpha=0.5)\n",
    "plt.legend()\n",
    "plt.hist(trace['conversion_B'][:], bins=35, histtype='stepfilled',\n",
    "color='#52c4a8', label='Posterior of B',alpha=0.5)\n",
    "plt.legend()\n",
    "plt.show()"
   ]
  },
  {
   "cell_type": "code",
   "execution_count": null,
   "metadata": {},
   "outputs": [],
   "source": []
  }
 ],
 "metadata": {
  "kernelspec": {
   "display_name": "Python 3",
   "language": "python",
   "name": "python3"
  },
  "language_info": {
   "codemirror_mode": {
    "name": "ipython",
    "version": 3
   },
   "file_extension": ".py",
   "mimetype": "text/x-python",
   "name": "python",
   "nbconvert_exporter": "python",
   "pygments_lexer": "ipython3",
   "version": "3.7.9"
  }
 },
 "nbformat": 4,
 "nbformat_minor": 4
}
